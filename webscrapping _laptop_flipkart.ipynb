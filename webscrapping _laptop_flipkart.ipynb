{
 "cells": [
  {
   "cell_type": "code",
   "execution_count": 2,
   "id": "91ad9c14-ec79-44aa-8091-a73f66d4d3a1",
   "metadata": {},
   "outputs": [
    {
     "name": "stdout",
     "output_type": "stream",
     "text": [
      "Requirement already satisfied: selenium in c:\\users\\aruni\\anaconda3\\lib\\site-packages (4.31.0)\n",
      "Requirement already satisfied: urllib3<3,>=1.26 in c:\\users\\aruni\\anaconda3\\lib\\site-packages (from urllib3[socks]<3,>=1.26->selenium) (2.2.2)\n",
      "Requirement already satisfied: trio~=0.17 in c:\\users\\aruni\\anaconda3\\lib\\site-packages (from selenium) (0.29.0)\n",
      "Requirement already satisfied: trio-websocket~=0.9 in c:\\users\\aruni\\anaconda3\\lib\\site-packages (from selenium) (0.12.2)\n",
      "Requirement already satisfied: certifi>=2021.10.8 in c:\\users\\aruni\\anaconda3\\lib\\site-packages (from selenium) (2024.6.2)\n",
      "Requirement already satisfied: typing_extensions~=4.9 in c:\\users\\aruni\\anaconda3\\lib\\site-packages (from selenium) (4.11.0)\n",
      "Requirement already satisfied: websocket-client~=1.8 in c:\\users\\aruni\\anaconda3\\lib\\site-packages (from selenium) (1.8.0)\n",
      "Requirement already satisfied: attrs>=23.2.0 in c:\\users\\aruni\\anaconda3\\lib\\site-packages (from trio~=0.17->selenium) (25.3.0)\n",
      "Requirement already satisfied: sortedcontainers in c:\\users\\aruni\\anaconda3\\lib\\site-packages (from trio~=0.17->selenium) (2.4.0)\n",
      "Requirement already satisfied: idna in c:\\users\\aruni\\anaconda3\\lib\\site-packages (from trio~=0.17->selenium) (3.7)\n",
      "Requirement already satisfied: outcome in c:\\users\\aruni\\anaconda3\\lib\\site-packages (from trio~=0.17->selenium) (1.3.0.post0)\n",
      "Requirement already satisfied: sniffio>=1.3.0 in c:\\users\\aruni\\anaconda3\\lib\\site-packages (from trio~=0.17->selenium) (1.3.0)\n",
      "Requirement already satisfied: cffi>=1.14 in c:\\users\\aruni\\anaconda3\\lib\\site-packages (from trio~=0.17->selenium) (1.16.0)\n",
      "Requirement already satisfied: wsproto>=0.14 in c:\\users\\aruni\\anaconda3\\lib\\site-packages (from trio-websocket~=0.9->selenium) (1.2.0)\n",
      "Requirement already satisfied: pysocks!=1.5.7,<2.0,>=1.5.6 in c:\\users\\aruni\\anaconda3\\lib\\site-packages (from urllib3[socks]<3,>=1.26->selenium) (1.7.1)\n",
      "Requirement already satisfied: pycparser in c:\\users\\aruni\\anaconda3\\lib\\site-packages (from cffi>=1.14->trio~=0.17->selenium) (2.21)\n",
      "Requirement already satisfied: h11<1,>=0.9.0 in c:\\users\\aruni\\anaconda3\\lib\\site-packages (from wsproto>=0.14->trio-websocket~=0.9->selenium) (0.14.0)\n",
      "Requirement already satisfied: webdriver-manager in c:\\users\\aruni\\anaconda3\\lib\\site-packages (4.0.2)\n",
      "Requirement already satisfied: requests in c:\\users\\aruni\\anaconda3\\lib\\site-packages (from webdriver-manager) (2.32.2)\n",
      "Requirement already satisfied: python-dotenv in c:\\users\\aruni\\anaconda3\\lib\\site-packages (from webdriver-manager) (0.21.0)\n",
      "Requirement already satisfied: packaging in c:\\users\\aruni\\anaconda3\\lib\\site-packages (from webdriver-manager) (23.2)\n",
      "Requirement already satisfied: charset-normalizer<4,>=2 in c:\\users\\aruni\\anaconda3\\lib\\site-packages (from requests->webdriver-manager) (2.0.4)\n",
      "Requirement already satisfied: idna<4,>=2.5 in c:\\users\\aruni\\anaconda3\\lib\\site-packages (from requests->webdriver-manager) (3.7)\n",
      "Requirement already satisfied: urllib3<3,>=1.21.1 in c:\\users\\aruni\\anaconda3\\lib\\site-packages (from requests->webdriver-manager) (2.2.2)\n",
      "Requirement already satisfied: certifi>=2017.4.17 in c:\\users\\aruni\\anaconda3\\lib\\site-packages (from requests->webdriver-manager) (2024.6.2)\n",
      "Requirement already satisfied: beautifulsoup4 in c:\\users\\aruni\\anaconda3\\lib\\site-packages (4.12.3)\n",
      "Requirement already satisfied: soupsieve>1.2 in c:\\users\\aruni\\anaconda3\\lib\\site-packages (from beautifulsoup4) (2.5)\n"
     ]
    }
   ],
   "source": [
    "!pip install selenium\n",
    "!pip install webdriver-manager\n",
    "!pip install beautifulsoup4\n"
   ]
  },
  {
   "cell_type": "code",
   "execution_count": 4,
   "id": "1bcd2814-9879-43c3-8864-f604a868379b",
   "metadata": {},
   "outputs": [],
   "source": [
    "from selenium import webdriver\n",
    "from selenium.webdriver.chrome.service import Service\n",
    "from selenium.webdriver.chrome.options import Options\n",
    "from webdriver_manager.chrome import ChromeDriverManager\n",
    "from bs4 import BeautifulSoup\n",
    "import pandas as pd\n",
    "import time\n"
   ]
  },
  {
   "cell_type": "code",
   "execution_count": 6,
   "id": "b98ec42f-a6f2-44f0-b226-4c747d8ded06",
   "metadata": {},
   "outputs": [],
   "source": [
    "options = Options()\n",
    "options.add_argument(\"--start-maximized\")\n",
    "service = Service(ChromeDriverManager().install())\n",
    "driver = webdriver.Chrome(service=service, options=options)\n"
   ]
  },
  {
   "cell_type": "code",
   "execution_count": 7,
   "id": "477ea1da-01b8-4b67-8356-42366e95525e",
   "metadata": {},
   "outputs": [
    {
     "name": "stdout",
     "output_type": "stream",
     "text": [
      " Page 1 collected.\n",
      " Page 2 collected.\n",
      " Page 3 collected.\n",
      " Page 4 collected.\n",
      " Page 5 collected.\n",
      " Page 6 collected.\n",
      " Page 7 collected.\n",
      " Page 8 collected.\n",
      " Page 9 collected.\n",
      " Page 10 collected.\n",
      " Page 11 collected.\n",
      " Page 12 collected.\n",
      " Page 13 collected.\n",
      " Page 14 collected.\n",
      " Page 15 collected.\n",
      " Page 16 collected.\n",
      " Page 17 collected.\n",
      " Page 18 collected.\n",
      " Page 19 collected.\n",
      " Page 20 collected.\n",
      " Page 21 collected.\n",
      " Page 22 collected.\n",
      " Page 23 collected.\n",
      " Page 24 collected.\n",
      " Page 25 collected.\n",
      " Page 26 collected.\n",
      " Page 27 collected.\n",
      " Page 28 collected.\n",
      " Page 29 collected.\n",
      " Page 30 collected.\n",
      " Page 31 collected.\n",
      " Page 32 collected.\n",
      " Page 33 collected.\n",
      " Page 34 collected.\n",
      " Page 35 collected.\n",
      " Page 36 collected.\n",
      " Page 37 collected.\n",
      " Page 38 collected.\n",
      " Page 39 collected.\n",
      " Page 40 collected.\n",
      " Page 41 collected.\n",
      " Page 42 collected.\n",
      " Page 43 collected.\n",
      " Page 44 collected.\n",
      " Page 45 collected.\n",
      " Page 46 collected.\n",
      " Page 47 collected.\n",
      " Page 48 collected.\n",
      " Page 49 collected.\n",
      " Page 50 collected.\n"
     ]
    }
   ],
   "source": [
    "pages_to_scrape=50\n",
    "laptop_data=[]\n",
    "for page in range (1,51):\n",
    "    url='https://www.flipkart.com/search?q=laptop&otracker=search&otracker1=search&marketplace=FLIPKART&as-show=on&as=off&page=' + str(page)\n",
    "    driver.get(url)\n",
    "    time.sleep(3)\n",
    "\n",
    "    soup = BeautifulSoup(driver.page_source, \"html.parser\")\n",
    "    laptops = soup.findAll(\"div\", class_='cPHDOP col-12-12')\n",
    "\n",
    "    laptop_data.extend(laptops)\n",
    "    print(f\" Page {page} collected.\")\n",
    "    time.sleep(2)"
   ]
  },
  {
   "cell_type": "code",
   "execution_count": 10,
   "id": "d701913c-23ef-41e1-bc94-100cf6353b2f",
   "metadata": {},
   "outputs": [],
   "source": [
    "titles = []\n",
    "for data in laptop_data:\n",
    "    name = data.find('div', class_='KzDlHZ')\n",
    "    if name:\n",
    "        titles.append(name.get_text(strip=True))\n",
    "    else:\n",
    "        titles.append(\"Unknown\")\n"
   ]
  },
  {
   "cell_type": "code",
   "execution_count": 14,
   "id": "1b345bc7-8a2e-4357-87ea-7d55d0532c81",
   "metadata": {},
   "outputs": [],
   "source": [
    "discount_price=[]\n",
    "for data in laptop_data:\n",
    "    rate= data.find('div', class_='Nx9bqj _4b5DiR')\n",
    "    if rate:\n",
    "        discount_price.append(rate.get_text(strip=True))\n",
    "    else:\n",
    "        discount_price.append(0)"
   ]
  },
  {
   "cell_type": "code",
   "execution_count": 16,
   "id": "3151f2ff-a4ac-4874-a203-7790df7e3c3e",
   "metadata": {},
   "outputs": [],
   "source": [
    "original_price=[]\n",
    "for data in laptop_data:\n",
    "    rate= data.find('div', class_='yRaY8j ZYYwLA')\n",
    "    if rate:\n",
    "        original_price.append(rate.get_text(strip=True))\n",
    "    else:\n",
    "        original_price.append(0)"
   ]
  },
  {
   "cell_type": "code",
   "execution_count": 18,
   "id": "367118f4-55a5-410c-b64e-77ea6f984616",
   "metadata": {},
   "outputs": [],
   "source": [
    "rating = [] \n",
    "for data in laptop_data:\n",
    "    rating_tag = data.find('div', class_='XQDdHH') \n",
    "    if rating_tag:\n",
    "        rating.append(rating_tag.get_text(strip=True)) \n",
    "    else:\n",
    "        rating.append(0)"
   ]
  },
  {
   "cell_type": "code",
   "execution_count": 20,
   "id": "d3d5595a-76f6-4acc-9d81-4c19ca6e742f",
   "metadata": {},
   "outputs": [],
   "source": [
    "reviews = []\n",
    "\n",
    "for data in laptop_data:\n",
    "    review_block = data.find('span', class_='Wphh3N')\n",
    "    \n",
    "    if review_block:\n",
    "        review_text = review_block.get_text(strip=True)\n",
    "        if \"Reviews\" in review_text:\n",
    "            parts = review_text.split('&')\n",
    "            if len(parts) == 2:\n",
    "                review_part = parts[1].strip()  \n",
    "                review_number = review_part.split()[0]\n",
    "                reviews.append(review_number)\n",
    "            else:\n",
    "                reviews.append('0')\n",
    "        else:\n",
    "            reviews.append('0')\n",
    "    else:\n",
    "        reviews.append('0')"
   ]
  },
  {
   "cell_type": "code",
   "execution_count": 22,
   "id": "04d0c7c7-a7ad-4c02-8991-65d575fdff0d",
   "metadata": {},
   "outputs": [],
   "source": [
    "offers = []\n",
    "\n",
    "for data in laptop_data:\n",
    "    offer_tag = data.find('div', class_='UkUFwK')\n",
    "    if offer_tag:\n",
    "        text = offer_tag.get_text(strip=True)\n",
    "        percent = ''.join(filter(str.isdigit, text)) \n",
    "        if percent:\n",
    "            offers.append(int(percent))\n",
    "        else:\n",
    "            offers.append(0)\n",
    "    else:\n",
    "        offers.append(0)\n"
   ]
  },
  {
   "cell_type": "code",
   "execution_count": 28,
   "id": "fe05d2a2-d87f-4622-9fd0-bf471b84db3c",
   "metadata": {},
   "outputs": [
    {
     "data": {
      "text/html": [
       "<div>\n",
       "<style scoped>\n",
       "    .dataframe tbody tr th:only-of-type {\n",
       "        vertical-align: middle;\n",
       "    }\n",
       "\n",
       "    .dataframe tbody tr th {\n",
       "        vertical-align: top;\n",
       "    }\n",
       "\n",
       "    .dataframe thead th {\n",
       "        text-align: right;\n",
       "    }\n",
       "</style>\n",
       "<table border=\"1\" class=\"dataframe\">\n",
       "  <thead>\n",
       "    <tr style=\"text-align: right;\">\n",
       "      <th></th>\n",
       "      <th>Title</th>\n",
       "      <th>Discount_Price</th>\n",
       "      <th>Original_Price</th>\n",
       "      <th>Rating</th>\n",
       "      <th>Number_of_Reviews</th>\n",
       "      <th>Discount(%)</th>\n",
       "    </tr>\n",
       "  </thead>\n",
       "  <tbody>\n",
       "    <tr>\n",
       "      <th>0</th>\n",
       "      <td>Unknown</td>\n",
       "      <td>0</td>\n",
       "      <td>0</td>\n",
       "      <td>0</td>\n",
       "      <td>0</td>\n",
       "      <td>0</td>\n",
       "    </tr>\n",
       "    <tr>\n",
       "      <th>1</th>\n",
       "      <td>Unknown</td>\n",
       "      <td>0</td>\n",
       "      <td>0</td>\n",
       "      <td>0</td>\n",
       "      <td>0</td>\n",
       "      <td>0</td>\n",
       "    </tr>\n",
       "    <tr>\n",
       "      <th>2</th>\n",
       "      <td>CHUWI Intel Celeron Dual Core 11th Gen N4020 -...</td>\n",
       "      <td>₹16,990</td>\n",
       "      <td>₹34,990</td>\n",
       "      <td>3.7</td>\n",
       "      <td>174</td>\n",
       "      <td>51</td>\n",
       "    </tr>\n",
       "    <tr>\n",
       "      <th>3</th>\n",
       "      <td>CHUWI Intel Core i5 12th Gen 12450H - (16 GB/5...</td>\n",
       "      <td>₹29,990</td>\n",
       "      <td>₹59,990</td>\n",
       "      <td>4.7</td>\n",
       "      <td>0</td>\n",
       "      <td>50</td>\n",
       "    </tr>\n",
       "    <tr>\n",
       "      <th>4</th>\n",
       "      <td>Acer Aspire 3 Intel Celeron Dual Core - (8 GB/...</td>\n",
       "      <td>₹15,990</td>\n",
       "      <td>₹32,999</td>\n",
       "      <td>3.8</td>\n",
       "      <td>71</td>\n",
       "      <td>51</td>\n",
       "    </tr>\n",
       "  </tbody>\n",
       "</table>\n",
       "</div>"
      ],
      "text/plain": [
       "                                               Title Discount_Price  \\\n",
       "0                                            Unknown              0   \n",
       "1                                            Unknown              0   \n",
       "2  CHUWI Intel Celeron Dual Core 11th Gen N4020 -...        ₹16,990   \n",
       "3  CHUWI Intel Core i5 12th Gen 12450H - (16 GB/5...        ₹29,990   \n",
       "4  Acer Aspire 3 Intel Celeron Dual Core - (8 GB/...        ₹15,990   \n",
       "\n",
       "  Original_Price Rating Number_of_Reviews  Discount(%)  \n",
       "0              0      0                 0            0  \n",
       "1              0      0                 0            0  \n",
       "2        ₹34,990    3.7               174           51  \n",
       "3        ₹59,990    4.7                 0           50  \n",
       "4        ₹32,999    3.8                71           51  "
      ]
     },
     "execution_count": 28,
     "metadata": {},
     "output_type": "execute_result"
    }
   ],
   "source": [
    "dataset={'Title':titles,'Discount_Price':discount_price,'Original_Price':original_price,'Rating':rating,'Number_of_Reviews':reviews ,'Discount(%)':offers}\n",
    "df=pd.DataFrame(dataset)\n",
    "df.head()"
   ]
  },
  {
   "cell_type": "code",
   "execution_count": 30,
   "id": "fbbea69c-5c60-4839-94e4-ad43ca2440b5",
   "metadata": {},
   "outputs": [
    {
     "data": {
      "text/plain": [
       "(1179, 6)"
      ]
     },
     "execution_count": 30,
     "metadata": {},
     "output_type": "execute_result"
    }
   ],
   "source": [
    "df.shape"
   ]
  },
  {
   "cell_type": "code",
   "execution_count": 32,
   "id": "7fdb85c7-0d74-4fb0-9542-c7b31d7d6d80",
   "metadata": {},
   "outputs": [],
   "source": [
    "df.to_csv('laptops_dataset.csv', index=False)\n"
   ]
  },
  {
   "cell_type": "code",
   "execution_count": 34,
   "id": "f8d38883-2c7e-4238-b50d-6eeddd6f3b09",
   "metadata": {},
   "outputs": [
    {
     "data": {
      "text/html": [
       "<div>\n",
       "<style scoped>\n",
       "    .dataframe tbody tr th:only-of-type {\n",
       "        vertical-align: middle;\n",
       "    }\n",
       "\n",
       "    .dataframe tbody tr th {\n",
       "        vertical-align: top;\n",
       "    }\n",
       "\n",
       "    .dataframe thead th {\n",
       "        text-align: right;\n",
       "    }\n",
       "</style>\n",
       "<table border=\"1\" class=\"dataframe\">\n",
       "  <thead>\n",
       "    <tr style=\"text-align: right;\">\n",
       "      <th></th>\n",
       "      <th>Title</th>\n",
       "      <th>Discount_Price</th>\n",
       "      <th>Original_Price</th>\n",
       "      <th>Rating</th>\n",
       "      <th>Number_of_Reviews</th>\n",
       "      <th>Discount(%)</th>\n",
       "    </tr>\n",
       "  </thead>\n",
       "  <tbody>\n",
       "    <tr>\n",
       "      <th>0</th>\n",
       "      <td>Unknown</td>\n",
       "      <td>0</td>\n",
       "      <td>0</td>\n",
       "      <td>0.0</td>\n",
       "      <td>0</td>\n",
       "      <td>0</td>\n",
       "    </tr>\n",
       "    <tr>\n",
       "      <th>1</th>\n",
       "      <td>Unknown</td>\n",
       "      <td>0</td>\n",
       "      <td>0</td>\n",
       "      <td>0.0</td>\n",
       "      <td>0</td>\n",
       "      <td>0</td>\n",
       "    </tr>\n",
       "    <tr>\n",
       "      <th>2</th>\n",
       "      <td>CHUWI Intel Celeron Dual Core 11th Gen N4020 -...</td>\n",
       "      <td>₹16,990</td>\n",
       "      <td>₹34,990</td>\n",
       "      <td>3.7</td>\n",
       "      <td>174</td>\n",
       "      <td>51</td>\n",
       "    </tr>\n",
       "    <tr>\n",
       "      <th>3</th>\n",
       "      <td>CHUWI Intel Core i5 12th Gen 12450H - (16 GB/5...</td>\n",
       "      <td>₹29,990</td>\n",
       "      <td>₹59,990</td>\n",
       "      <td>4.7</td>\n",
       "      <td>0</td>\n",
       "      <td>50</td>\n",
       "    </tr>\n",
       "    <tr>\n",
       "      <th>4</th>\n",
       "      <td>Acer Aspire 3 Intel Celeron Dual Core - (8 GB/...</td>\n",
       "      <td>₹15,990</td>\n",
       "      <td>₹32,999</td>\n",
       "      <td>3.8</td>\n",
       "      <td>71</td>\n",
       "      <td>51</td>\n",
       "    </tr>\n",
       "  </tbody>\n",
       "</table>\n",
       "</div>"
      ],
      "text/plain": [
       "                                               Title Discount_Price  \\\n",
       "0                                            Unknown              0   \n",
       "1                                            Unknown              0   \n",
       "2  CHUWI Intel Celeron Dual Core 11th Gen N4020 -...        ₹16,990   \n",
       "3  CHUWI Intel Core i5 12th Gen 12450H - (16 GB/5...        ₹29,990   \n",
       "4  Acer Aspire 3 Intel Celeron Dual Core - (8 GB/...        ₹15,990   \n",
       "\n",
       "  Original_Price  Rating Number_of_Reviews  Discount(%)  \n",
       "0              0     0.0                 0            0  \n",
       "1              0     0.0                 0            0  \n",
       "2        ₹34,990     3.7               174           51  \n",
       "3        ₹59,990     4.7                 0           50  \n",
       "4        ₹32,999     3.8                71           51  "
      ]
     },
     "execution_count": 34,
     "metadata": {},
     "output_type": "execute_result"
    }
   ],
   "source": [
    "df2 = pd.read_csv('laptops_dataset.csv')\n",
    "df2.head()\n"
   ]
  },
  {
   "cell_type": "code",
   "execution_count": 36,
   "id": "12717dd5-7b93-4efb-8ae7-c18a59f82ec3",
   "metadata": {},
   "outputs": [
    {
     "data": {
      "text/plain": [
       "Title                0\n",
       "Discount_Price       0\n",
       "Original_Price       0\n",
       "Rating               0\n",
       "Number_of_Reviews    0\n",
       "Discount(%)          0\n",
       "dtype: int64"
      ]
     },
     "execution_count": 36,
     "metadata": {},
     "output_type": "execute_result"
    }
   ],
   "source": [
    "df2.isnull().sum()"
   ]
  },
  {
   "cell_type": "code",
   "execution_count": 38,
   "id": "ad55650c-5520-43ac-a3cf-c6e6d35e3f60",
   "metadata": {},
   "outputs": [
    {
     "name": "stdout",
     "output_type": "stream",
     "text": [
      "<class 'pandas.core.frame.DataFrame'>\n",
      "RangeIndex: 1179 entries, 0 to 1178\n",
      "Data columns (total 6 columns):\n",
      " #   Column             Non-Null Count  Dtype  \n",
      "---  ------             --------------  -----  \n",
      " 0   Title              1179 non-null   object \n",
      " 1   Discount_Price     1179 non-null   object \n",
      " 2   Original_Price     1179 non-null   object \n",
      " 3   Rating             1179 non-null   float64\n",
      " 4   Number_of_Reviews  1179 non-null   object \n",
      " 5   Discount(%)        1179 non-null   int64  \n",
      "dtypes: float64(1), int64(1), object(4)\n",
      "memory usage: 55.4+ KB\n"
     ]
    }
   ],
   "source": [
    "df2.info()"
   ]
  },
  {
   "cell_type": "code",
   "execution_count": null,
   "id": "63465f44-3de9-4575-94c0-5cf4c7f68055",
   "metadata": {},
   "outputs": [],
   "source": []
  }
 ],
 "metadata": {
  "kernelspec": {
   "display_name": "Python [conda env:anaconda3]",
   "language": "python",
   "name": "conda-env-anaconda3-py"
  },
  "language_info": {
   "codemirror_mode": {
    "name": "ipython",
    "version": 3
   },
   "file_extension": ".py",
   "mimetype": "text/x-python",
   "name": "python",
   "nbconvert_exporter": "python",
   "pygments_lexer": "ipython3",
   "version": "3.12.4"
  }
 },
 "nbformat": 4,
 "nbformat_minor": 5
}
